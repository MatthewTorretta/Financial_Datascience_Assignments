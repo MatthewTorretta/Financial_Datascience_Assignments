{
 "cells": [
  {
   "cell_type": "code",
   "execution_count": 32,
   "id": "720745ba-9cee-4ab1-99ce-9509d3367100",
   "metadata": {},
   "outputs": [],
   "source": [
    "import requests\n",
    "from bs4 import BeautifulSoup\n",
    "import sqlite3 as lite\n",
    "import pandas as pd\n",
    "import re\n",
    "import time"
   ]
  },
  {
   "cell_type": "code",
   "execution_count": 8,
   "id": "6a3395ce-2a3d-4cbe-a9cd-3ddd53e10e3a",
   "metadata": {},
   "outputs": [],
   "source": [
    "Addr = \"https://www.larvalabs.com/cryptopunks/details\" # Punk number\n",
    "PunkNo = '10'\n",
    "Punk = 10\n",
    "PunkRange = (Punk*(10))\n",
    "\n",
    "PunkList = list(range(0,PunkRange+1,1))"
   ]
  },
  {
   "cell_type": "code",
   "execution_count": 9,
   "id": "e0b1a56b-da44-4dfe-82df-5f3fa4bf6166",
   "metadata": {},
   "outputs": [],
   "source": [
    "BaseStr = \"https://www.larvalabs.com/cryptopunks/details/\"\n",
    "con = lite.connect('CryptoPunk.db')"
   ]
  },
  {
   "cell_type": "code",
   "execution_count": 15,
   "id": "0d01c2de-ad8e-4e48-9dd5-6be702270e5c",
   "metadata": {
    "scrolled": true,
    "tags": []
   },
   "outputs": [
    {
     "name": "stdout",
     "output_type": "stream",
     "text": [
      "Processing Punk No.:0\n",
      "Processing Punk No.:1\n",
      "Processing Punk No.:2\n",
      "Processing Punk No.:3\n",
      "Processing Punk No.:4\n",
      "Processing Punk No.:5\n",
      "Processing Punk No.:6\n",
      "Processing Punk No.:7\n",
      "Processing Punk No.:8\n",
      "Processing Punk No.:9\n",
      "Processing Punk No.:10\n",
      "Processing Punk No.:11\n",
      "Processing Punk No.:12\n",
      "Processing Punk No.:13\n",
      "Processing Punk No.:14\n",
      "Processing Punk No.:15\n",
      "Processing Punk No.:16\n",
      "Processing Punk No.:17\n",
      "Processing Punk No.:18\n",
      "Processing Punk No.:19\n",
      "Processing Punk No.:20\n",
      "Processing Punk No.:21\n",
      "Processing Punk No.:22\n",
      "Processing Punk No.:23\n",
      "Processing Punk No.:24\n",
      "Processing Punk No.:25\n",
      "Processing Punk No.:26\n",
      "Processing Punk No.:27\n",
      "Processing Punk No.:28\n",
      "Processing Punk No.:29\n",
      "Processing Punk No.:30\n",
      "Processing Punk No.:31\n",
      "Processing Punk No.:32\n",
      "Processing Punk No.:33\n",
      "Processing Punk No.:34\n",
      "Processing Punk No.:35\n",
      "Processing Punk No.:36\n",
      "Processing Punk No.:37\n",
      "Processing Punk No.:38\n",
      "Processing Punk No.:39\n",
      "Processing Punk No.:40\n",
      "Processing Punk No.:41\n",
      "Processing Punk No.:42\n",
      "Processing Punk No.:43\n",
      "Processing Punk No.:44\n",
      "Processing Punk No.:45\n",
      "Processing Punk No.:46\n",
      "Processing Punk No.:47\n",
      "Processing Punk No.:48\n",
      "Processing Punk No.:49\n",
      "Processing Punk No.:50\n",
      "Processing Punk No.:51\n",
      "Processing Punk No.:52\n",
      "Processing Punk No.:53\n",
      "Processing Punk No.:54\n",
      "Processing Punk No.:55\n",
      "Processing Punk No.:56\n",
      "Processing Punk No.:57\n",
      "Processing Punk No.:58\n",
      "Processing Punk No.:59\n",
      "Processing Punk No.:60\n",
      "Processing Punk No.:61\n",
      "Processing Punk No.:62\n",
      "Processing Punk No.:63\n",
      "Processing Punk No.:64\n",
      "Processing Punk No.:65\n",
      "Processing Punk No.:66\n",
      "Processing Punk No.:67\n",
      "Processing Punk No.:68\n",
      "Processing Punk No.:69\n",
      "Processing Punk No.:70\n",
      "Processing Punk No.:71\n",
      "Processing Punk No.:72\n",
      "Processing Punk No.:73\n",
      "Processing Punk No.:74\n",
      "Processing Punk No.:75\n",
      "Processing Punk No.:76\n",
      "Processing Punk No.:77\n",
      "Processing Punk No.:78\n",
      "Processing Punk No.:79\n",
      "Processing Punk No.:80\n",
      "Processing Punk No.:81\n",
      "Processing Punk No.:82\n",
      "Processing Punk No.:83\n",
      "Processing Punk No.:84\n",
      "Processing Punk No.:85\n",
      "Processing Punk No.:86\n",
      "Processing Punk No.:87\n",
      "Processing Punk No.:88\n",
      "Processing Punk No.:89\n",
      "Processing Punk No.:90\n",
      "Processing Punk No.:91\n",
      "Processing Punk No.:92\n",
      "Processing Punk No.:93\n",
      "Processing Punk No.:94\n",
      "Processing Punk No.:95\n",
      "Processing Punk No.:96\n",
      "Processing Punk No.:97\n",
      "Processing Punk No.:98\n",
      "Processing Punk No.:99\n",
      "Processing Punk No.:100\n"
     ]
    }
   ],
   "source": [
    "with con:\n",
    "        cur=con.cursor()\n",
    "        cur.execute(\"DROP TABLE IF EXISTS PunkTrades\") \n",
    "       \n",
    "        cur.execute(\"\"\"CREATE TABLE PunkTrades(PunkID text, TType text, TFrom text, TTo text, TAmt int, TDate text)\"\"\");\n",
    "        listing = []\n",
    "        for i in PunkList:\n",
    "            PunkNo = str(i)\n",
    "            print('Processing Punk No.:' + PunkNo)\n",
    "            page = requests.get(BaseStr + PunkNo)             \n",
    "            # Getting page HTML through request\n",
    "            soup = BeautifulSoup(page.content, 'html.parser') \n",
    "            # Parsing content using beautifulsoup\n",
    "            #< Complete reading of Crypto trades for this Punk looping through all the trades>#\n",
    "            \n",
    "            table = soup.find('table', attrs={'class':'table'})\n",
    "            rows = table.find_all('tr')\n",
    "            time.sleep(1)\n",
    "            for row in rows:\n",
    "                cols = row.find_all('td')\n",
    "                if cols:\n",
    "                    cols = [ele.text.strip() for ele in cols]\n",
    "                    # print(cols)\n",
    "                    PunkID = PunkNo\n",
    "                    TType = cols[0]\n",
    "                    TFrom = cols[1]\n",
    "                    TTo = cols[2]\n",
    "                    TAmtList = [x[0] for x in re.findall('\\$((\\d+)(?:[\\.,]\\d+))', cols[3])]\n",
    "                    TAmtS = ' '.join(TAmtList).replace(',','')\n",
    "                    if TAmtS == '':\n",
    "                        TAmtS = 0\n",
    "                    TAmt = int(float(TAmtS))\n",
    "                    type(TAmt)\n",
    "                    # TAmt = cols[3]\n",
    "                    # print(TAmt)\n",
    "                    TDate = cols[4]\n",
    "\n",
    "\n",
    "                    row1 = (PunkID, TType, TFrom, TTo, TAmt, TDate)\n",
    "                    cur.execute('INSERT OR IGNORE INTO PunkTrades VALUES (?,?,?,?,?,?)', row1)"
   ]
  },
  {
   "cell_type": "markdown",
   "id": "6c6ec0bf-b39e-40f9-ba18-8f7be29707ef",
   "metadata": {},
   "source": [
    "#### Report the punk with the highest price"
   ]
  },
  {
   "cell_type": "code",
   "execution_count": 17,
   "id": "e52b1118-21f5-4256-8dff-ed4c921259f6",
   "metadata": {},
   "outputs": [
    {
     "data": {
      "text/html": [
       "<div>\n",
       "<style scoped>\n",
       "    .dataframe tbody tr th:only-of-type {\n",
       "        vertical-align: middle;\n",
       "    }\n",
       "\n",
       "    .dataframe tbody tr th {\n",
       "        vertical-align: top;\n",
       "    }\n",
       "\n",
       "    .dataframe thead th {\n",
       "        text-align: right;\n",
       "    }\n",
       "</style>\n",
       "<table border=\"1\" class=\"dataframe\">\n",
       "  <thead>\n",
       "    <tr style=\"text-align: right;\">\n",
       "      <th></th>\n",
       "      <th>PunkID</th>\n",
       "      <th>Price</th>\n",
       "    </tr>\n",
       "  </thead>\n",
       "  <tbody>\n",
       "    <tr>\n",
       "      <th>0</th>\n",
       "      <td>53</td>\n",
       "      <td>432676</td>\n",
       "    </tr>\n",
       "  </tbody>\n",
       "</table>\n",
       "</div>"
      ],
      "text/plain": [
       "  PunkID   Price\n",
       "0     53  432676"
      ]
     },
     "execution_count": 17,
     "metadata": {},
     "output_type": "execute_result"
    }
   ],
   "source": [
    "Qry = ('''SELECT PunkID, MAX(TAmt) AS Price\n",
    "        FROM PunkTrades WHERE TType = 'Sold' ''')\n",
    "\n",
    "Q1 = pd.read_sql_query(Qry, con)\n",
    "Q1"
   ]
  },
  {
   "cell_type": "markdown",
   "id": "d31b2cde-6070-4ec8-bb61-8387aa8d0a6d",
   "metadata": {},
   "source": [
    "#### Report which punk was traded the most."
   ]
  },
  {
   "cell_type": "code",
   "execution_count": 18,
   "id": "1d66718e-ba09-4cc0-9358-976dd833209d",
   "metadata": {},
   "outputs": [
    {
     "data": {
      "text/html": [
       "<div>\n",
       "<style scoped>\n",
       "    .dataframe tbody tr th:only-of-type {\n",
       "        vertical-align: middle;\n",
       "    }\n",
       "\n",
       "    .dataframe tbody tr th {\n",
       "        vertical-align: top;\n",
       "    }\n",
       "\n",
       "    .dataframe thead th {\n",
       "        text-align: right;\n",
       "    }\n",
       "</style>\n",
       "<table border=\"1\" class=\"dataframe\">\n",
       "  <thead>\n",
       "    <tr style=\"text-align: right;\">\n",
       "      <th></th>\n",
       "      <th>PunkID</th>\n",
       "      <th>Trade_count</th>\n",
       "    </tr>\n",
       "  </thead>\n",
       "  <tbody>\n",
       "    <tr>\n",
       "      <th>0</th>\n",
       "      <td>53</td>\n",
       "      <td>3</td>\n",
       "    </tr>\n",
       "  </tbody>\n",
       "</table>\n",
       "</div>"
      ],
      "text/plain": [
       "  PunkID  Trade_count\n",
       "0     53            3"
      ]
     },
     "execution_count": 18,
     "metadata": {},
     "output_type": "execute_result"
    }
   ],
   "source": [
    "Qry = (''' SELECT PunkID, COUNT(TType) AS Trade_count\n",
    "            FROM PunkTrades\n",
    "            WHERE TType == 'Sold' AND TAmt>0\n",
    "            GROUP BY PunkID ORDER BY Trade_count DESC LIMIT 1 ''')\n",
    "\n",
    "Q2 = Q1 = pd.read_sql_query(Qry, con)\n",
    "Q2"
   ]
  },
  {
   "cell_type": "markdown",
   "id": "47dacbf7-7a99-4eb2-8ea3-19a8cc7d7612",
   "metadata": {},
   "source": [
    "#### Average price by day in the DB"
   ]
  },
  {
   "cell_type": "code",
   "execution_count": 31,
   "id": "c1b7e402-46c5-4258-ace5-84d59f3d35fe",
   "metadata": {},
   "outputs": [
    {
     "data": {
      "text/html": [
       "<div>\n",
       "<style scoped>\n",
       "    .dataframe tbody tr th:only-of-type {\n",
       "        vertical-align: middle;\n",
       "    }\n",
       "\n",
       "    .dataframe tbody tr th {\n",
       "        vertical-align: top;\n",
       "    }\n",
       "\n",
       "    .dataframe thead th {\n",
       "        text-align: right;\n",
       "    }\n",
       "</style>\n",
       "<table border=\"1\" class=\"dataframe\">\n",
       "  <thead>\n",
       "    <tr style=\"text-align: right;\">\n",
       "      <th></th>\n",
       "      <th>AverageP</th>\n",
       "      <th>TDate</th>\n",
       "    </tr>\n",
       "  </thead>\n",
       "  <tbody>\n",
       "    <tr>\n",
       "      <th>0</th>\n",
       "      <td>5155.0</td>\n",
       "      <td>Apr 06, 2019</td>\n",
       "    </tr>\n",
       "    <tr>\n",
       "      <th>1</th>\n",
       "      <td>432676.0</td>\n",
       "      <td>Aug 23, 2021</td>\n",
       "    </tr>\n",
       "    <tr>\n",
       "      <th>2</th>\n",
       "      <td>26612.0</td>\n",
       "      <td>Feb 01, 2021</td>\n",
       "    </tr>\n",
       "    <tr>\n",
       "      <th>3</th>\n",
       "      <td>42803.0</td>\n",
       "      <td>Feb 19, 2021</td>\n",
       "    </tr>\n",
       "    <tr>\n",
       "      <th>4</th>\n",
       "      <td>4138.0</td>\n",
       "      <td>May 28, 2020</td>\n",
       "    </tr>\n",
       "    <tr>\n",
       "      <th>5</th>\n",
       "      <td>2822.0</td>\n",
       "      <td>Nov 30, 2018</td>\n",
       "    </tr>\n",
       "    <tr>\n",
       "      <th>6</th>\n",
       "      <td>36305.0</td>\n",
       "      <td>Nov 30, 2020</td>\n",
       "    </tr>\n",
       "    <tr>\n",
       "      <th>7</th>\n",
       "      <td>6898.0</td>\n",
       "      <td>Sep 06, 2020</td>\n",
       "    </tr>\n",
       "  </tbody>\n",
       "</table>\n",
       "</div>"
      ],
      "text/plain": [
       "   AverageP         TDate\n",
       "0    5155.0  Apr 06, 2019\n",
       "1  432676.0  Aug 23, 2021\n",
       "2   26612.0  Feb 01, 2021\n",
       "3   42803.0  Feb 19, 2021\n",
       "4    4138.0  May 28, 2020\n",
       "5    2822.0  Nov 30, 2018\n",
       "6   36305.0  Nov 30, 2020\n",
       "7    6898.0  Sep 06, 2020"
      ]
     },
     "execution_count": 31,
     "metadata": {},
     "output_type": "execute_result"
    }
   ],
   "source": [
    "Qry = (''' SELECT AVG(TAmt) AS AverageP, TDate\n",
    "            FROM PunkTrades WHERE TAmt>0 AND TType == 'Sold' GROUP BY TDate ''')\n",
    "\n",
    "Q3 = pd.read_sql_query(Qry, con)\n",
    "Q3"
   ]
  },
  {
   "cell_type": "markdown",
   "id": "d8f1cb25-5150-4e58-955c-01d7f8f11ab2",
   "metadata": {},
   "source": [
    "#### Which owner has the most valuable portfolio of Crypto Punks?"
   ]
  },
  {
   "cell_type": "code",
   "execution_count": 37,
   "id": "c5bf8ab3-f007-4228-825b-271cf29d5a8d",
   "metadata": {},
   "outputs": [
    {
     "data": {
      "text/html": [
       "<div>\n",
       "<style scoped>\n",
       "    .dataframe tbody tr th:only-of-type {\n",
       "        vertical-align: middle;\n",
       "    }\n",
       "\n",
       "    .dataframe tbody tr th {\n",
       "        vertical-align: top;\n",
       "    }\n",
       "\n",
       "    .dataframe thead th {\n",
       "        text-align: right;\n",
       "    }\n",
       "</style>\n",
       "<table border=\"1\" class=\"dataframe\">\n",
       "  <thead>\n",
       "    <tr style=\"text-align: right;\">\n",
       "      <th></th>\n",
       "      <th>PunkOwner</th>\n",
       "      <th>portfolio</th>\n",
       "    </tr>\n",
       "  </thead>\n",
       "  <tbody>\n",
       "    <tr>\n",
       "      <th>0</th>\n",
       "      <td>jmg</td>\n",
       "      <td>42803</td>\n",
       "    </tr>\n",
       "  </tbody>\n",
       "</table>\n",
       "</div>"
      ],
      "text/plain": [
       "  PunkOwner  portfolio\n",
       "0       jmg      42803"
      ]
     },
     "execution_count": 37,
     "metadata": {},
     "output_type": "execute_result"
    }
   ],
   "source": [
    "Qry = (''' SELECT TTo as PunkOwner, SUM(TAmt) AS portfolio\n",
    "            FROM(SELECT PunkID, TTo, TAmt, MAX(TDate) AS TDate\n",
    "            FROM PunkTrades WHERE TType = 'Sold' GROUP BY PunkID)\n",
    "            GROUP by TTo ORDER BY portfolio DESC LIMIT 1 ''')\n",
    "\n",
    "Q4 = pd.read_sql_query(Qry, con)\n",
    "Q4"
   ]
  },
  {
   "cell_type": "code",
   "execution_count": null,
   "id": "6fef8ef1-1139-44ba-b271-d46bab11cdf6",
   "metadata": {},
   "outputs": [],
   "source": []
  }
 ],
 "metadata": {
  "kernelspec": {
   "display_name": "Python 3",
   "language": "python",
   "name": "python3"
  },
  "language_info": {
   "codemirror_mode": {
    "name": "ipython",
    "version": 3
   },
   "file_extension": ".py",
   "mimetype": "text/x-python",
   "name": "python",
   "nbconvert_exporter": "python",
   "pygments_lexer": "ipython3",
   "version": "3.8.8"
  }
 },
 "nbformat": 4,
 "nbformat_minor": 5
}
